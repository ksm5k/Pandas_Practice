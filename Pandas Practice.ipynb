{
 "cells": [
  {
   "cell_type": "code",
   "execution_count": 1,
   "id": "99d56adf",
   "metadata": {},
   "outputs": [],
   "source": [
    "import pandas as pd\n",
    "import numpy as np "
   ]
  },
  {
   "cell_type": "code",
   "execution_count": 2,
   "id": "0b1b599f",
   "metadata": {},
   "outputs": [
    {
     "name": "stdout",
     "output_type": "stream",
     "text": [
      "1.4.4\n"
     ]
    }
   ],
   "source": [
    "print(pd.__version__)"
   ]
  },
  {
   "cell_type": "code",
   "execution_count": 3,
   "id": "de682fbc",
   "metadata": {},
   "outputs": [
    {
     "name": "stdout",
     "output_type": "stream",
     "text": [
      "1.21.5\n"
     ]
    }
   ],
   "source": [
    "print(np.__version__)"
   ]
  },
  {
   "cell_type": "code",
   "execution_count": 8,
   "id": "f61bacc1",
   "metadata": {},
   "outputs": [],
   "source": [
    "#Define a data set\n",
    "data_set = {\"Pastry\": [\"croissant\", \"muffin\", \"scone\"], \"Number of Sales\": [15, 5, 2]}"
   ]
  },
  {
   "cell_type": "code",
   "execution_count": 9,
   "id": "53ddbcec",
   "metadata": {},
   "outputs": [],
   "source": [
    "#Create a data frame. A data frame is a 2d data structure, similar to a table with columns. \n",
    "df = pd.DataFrame(data_set)"
   ]
  },
  {
   "cell_type": "code",
   "execution_count": 10,
   "id": "9931567f",
   "metadata": {},
   "outputs": [
    {
     "name": "stdout",
     "output_type": "stream",
     "text": [
      "      Pastry  Number of Sales\n",
      "0  croissant               15\n",
      "1     muffin                5\n",
      "2      scone                2\n"
     ]
    }
   ],
   "source": [
    "#Look at the data frame by printing it\n",
    "print(df)"
   ]
  },
  {
   "cell_type": "code",
   "execution_count": 11,
   "id": "ca65d662",
   "metadata": {},
   "outputs": [
    {
     "name": "stdout",
     "output_type": "stream",
     "text": [
      "Pastry             croissant\n",
      "Number of Sales           15\n",
      "Name: 0, dtype: object\n"
     ]
    }
   ],
   "source": [
    "#Print the first row of information by indexing into the data frame\n",
    "print(df.loc[0])"
   ]
  },
  {
   "cell_type": "code",
   "execution_count": 13,
   "id": "f6a2d9ca",
   "metadata": {},
   "outputs": [
    {
     "name": "stdout",
     "output_type": "stream",
     "text": [
      "      Pastry  Number of Sales\n",
      "0  croissant               15\n",
      "1     muffin                5\n"
     ]
    }
   ],
   "source": [
    "#Print the first two rows of information by using a list of indexes \n",
    "print(df.loc[[0, 1]])"
   ]
  },
  {
   "cell_type": "code",
   "execution_count": 14,
   "id": "2f51b81e",
   "metadata": {},
   "outputs": [
    {
     "name": "stdout",
     "output_type": "stream",
     "text": [
      "      Pastry  Number of Sales\n",
      "0  croissant               15\n",
      "1     muffin                5\n",
      "2      scone                2\n"
     ]
    }
   ],
   "source": [
    "#More practice using a list of indexes to access information in data frame\n",
    "print(df.loc[[0, 1, 2]])"
   ]
  },
  {
   "cell_type": "code",
   "execution_count": 15,
   "id": "1d3413b1",
   "metadata": {},
   "outputs": [
    {
     "name": "stdout",
     "output_type": "stream",
     "text": [
      "      Pastry  Number of Sales\n",
      "0  croissant               15\n",
      "2      scone                2\n"
     ]
    }
   ],
   "source": [
    "print(df.loc[[0, 2]])"
   ]
  },
  {
   "cell_type": "code",
   "execution_count": 16,
   "id": "0ce3b63f",
   "metadata": {},
   "outputs": [
    {
     "name": "stdout",
     "output_type": "stream",
     "text": [
      "   Pastry  Number of Sales\n",
      "2   scone                2\n",
      "1  muffin                5\n"
     ]
    }
   ],
   "source": [
    "print(df.loc[[2, 1]])"
   ]
  },
  {
   "cell_type": "code",
   "execution_count": 23,
   "id": "d3ac1001",
   "metadata": {},
   "outputs": [
    {
     "name": "stdout",
     "output_type": "stream",
     "text": [
      "         Pastry Sales Drink Sales Unique Transactions\n",
      "Friday             53          72                  27\n",
      "Saturday           62          85                  39\n",
      "Sunday             47          69                  30\n"
     ]
    }
   ],
   "source": [
    "#Create a new data frame describing some sales data over the weekend. Let the weekday be the index. \n",
    "data_set_2 = {\"Pastry Sales\": [\"53\", \"62\", \"47\"], \"Drink Sales\": [\"72\", \"85\", \"69\"], \"Unique Transactions\": [\"27\", \"39\", \"30\"]}\n",
    "df_2 = pd.DataFrame(data_set_2, index = [\"Friday\", \"Saturday\", \"Sunday\"])\n",
    "print(df_2)"
   ]
  },
  {
   "cell_type": "code",
   "execution_count": 25,
   "id": "33ac2095",
   "metadata": {},
   "outputs": [
    {
     "name": "stdout",
     "output_type": "stream",
     "text": [
      "Pastry Sales           62\n",
      "Drink Sales            85\n",
      "Unique Transactions    39\n",
      "Name: Saturday, dtype: object\n"
     ]
    }
   ],
   "source": [
    "#Look at Saturday's data by indexing into the data frame \n",
    "print(df_2.loc[\"Saturday\"])"
   ]
  },
  {
   "cell_type": "code",
   "execution_count": 27,
   "id": "c9dfba8e",
   "metadata": {},
   "outputs": [],
   "source": [
    "#Now practice loading in a data frame, since you will often be using a pre-existing data set \n",
    "#The data set comes from Kaggle \n",
    "#https://www.kaggle.com/datasets/themrityunjaypathak/pandas-practice-dataset?resource=download \n",
    "\n",
    "loaded_df = pd.read_csv('data.csv')"
   ]
  },
  {
   "cell_type": "code",
   "execution_count": 28,
   "id": "23a1c343",
   "metadata": {},
   "outputs": [
    {
     "name": "stdout",
     "output_type": "stream",
     "text": [
      "    Duration          Date  Pulse  Maxpulse  Calories\n",
      "0         60  '2020/12/01'    110       130     409.1\n",
      "1         60  '2020/12/02'    117       145     479.0\n",
      "2         60  '2020/12/03'    103       135     340.0\n",
      "3         45  '2020/12/04'    109       175     282.4\n",
      "4         45  '2020/12/05'    117       148     406.0\n",
      "5         60  '2020/12/06'    102       127     300.0\n",
      "6         60  '2020/12/07'    110       136     374.0\n",
      "7        450  '2020/12/08'    104       134     253.3\n",
      "8         30  '2020/12/09'    109       133     195.1\n",
      "9         60  '2020/12/10'     98       124     269.0\n",
      "10        60  '2020/12/11'    103       147     329.3\n",
      "11        60  '2020/12/12'    100       120     250.7\n",
      "12        60  '2020/12/12'    100       120     250.7\n",
      "13        60  '2020/12/13'    106       128     345.3\n",
      "14        60  '2020/12/14'    104       132     379.3\n",
      "15        60  '2020/12/15'     98       123     275.0\n",
      "16        60  '2020/12/16'     98       120     215.2\n",
      "17        60  '2020/12/17'    100       120     300.0\n",
      "18        45  '2020/12/18'     90       112       NaN\n",
      "19        60  '2020/12/19'    103       123     323.0\n",
      "20        45  '2020/12/20'     97       125     243.0\n",
      "21        60  '2020/12/21'    108       131     364.2\n",
      "22        45           NaN    100       119     282.0\n",
      "23        60  '2020/12/23'    130       101     300.0\n",
      "24        45  '2020/12/24'    105       132     246.0\n",
      "25        60  '2020/12/25'    102       126     334.5\n",
      "26        60      20201226    100       120     250.0\n",
      "27        60  '2020/12/27'     92       118     241.0\n",
      "28        60  '2020/12/28'    103       132       NaN\n",
      "29        60  '2020/12/29'    100       132     280.0\n",
      "30        60  '2020/12/30'    102       129     380.3\n",
      "31        60  '2020/12/31'     92       115     243.0\n"
     ]
    }
   ],
   "source": [
    "print(loaded_df)"
   ]
  },
  {
   "cell_type": "code",
   "execution_count": null,
   "id": "9005b8bb",
   "metadata": {},
   "outputs": [],
   "source": [
    "#Now focus on cleaning the data set \n",
    "\n",
    "#Some things that need to be cleaned, on first glance: \n",
    "#Row 7's Duration seems inaccurate based on surrounding context  \n",
    "#NaN values are present in the data set \n",
    "#Row 11 and 12 are duplicates \n",
    "#Row 26 has an improperly formatted date"
   ]
  },
  {
   "cell_type": "code",
   "execution_count": 34,
   "id": "88eddf76",
   "metadata": {},
   "outputs": [],
   "source": [
    "#Correct the Duration value in row 7 by replacing it \n",
    "#If the data set was larger, instead of replacing individual values, we could delete rows containing what we decide are invalid values or change the values\n",
    "#Because all other Duration values are between 30 and 60, 450 is an outlier. \n",
    "#Knowing these values are the durations of someone's daily workout, we can reasonably assume they did not work out for 450 minutes\n",
    "loaded_df.loc[7, 'Duration'] = 45"
   ]
  },
  {
   "cell_type": "code",
   "execution_count": 36,
   "id": "fadb0af8",
   "metadata": {},
   "outputs": [
    {
     "name": "stdout",
     "output_type": "stream",
     "text": [
      "Duration              45\n",
      "Date        '2020/12/08'\n",
      "Pulse                104\n",
      "Maxpulse             134\n",
      "Calories           253.3\n",
      "Name: 7, dtype: object\n"
     ]
    }
   ],
   "source": [
    "#Verify that the row updated \n",
    "print(loaded_df.loc[7])"
   ]
  },
  {
   "cell_type": "code",
   "execution_count": 38,
   "id": "a53885f4",
   "metadata": {},
   "outputs": [
    {
     "name": "stdout",
     "output_type": "stream",
     "text": [
      "0     False\n",
      "1     False\n",
      "2     False\n",
      "3     False\n",
      "4     False\n",
      "5     False\n",
      "6     False\n",
      "7     False\n",
      "8     False\n",
      "9     False\n",
      "10    False\n",
      "11    False\n",
      "12     True\n",
      "13    False\n",
      "14    False\n",
      "15    False\n",
      "16    False\n",
      "17    False\n",
      "18    False\n",
      "19    False\n",
      "20    False\n",
      "21    False\n",
      "22    False\n",
      "23    False\n",
      "24    False\n",
      "25    False\n",
      "26    False\n",
      "27    False\n",
      "28    False\n",
      "29    False\n",
      "30    False\n",
      "31    False\n",
      "dtype: bool\n"
     ]
    }
   ],
   "source": [
    "#Now practice removing duplicates. The following functions will come in handy for larger datasets.\n",
    "print(loaded_df.duplicated())"
   ]
  },
  {
   "cell_type": "code",
   "execution_count": 39,
   "id": "df74128b",
   "metadata": {},
   "outputs": [],
   "source": [
    "loaded_df.drop_duplicates(inplace = True)"
   ]
  },
  {
   "cell_type": "code",
   "execution_count": 40,
   "id": "dbef22ec",
   "metadata": {},
   "outputs": [
    {
     "name": "stdout",
     "output_type": "stream",
     "text": [
      "    Duration          Date  Pulse  Maxpulse  Calories\n",
      "0         60  '2020/12/01'    110       130     409.1\n",
      "1         60  '2020/12/02'    117       145     479.0\n",
      "2         60  '2020/12/03'    103       135     340.0\n",
      "3         45  '2020/12/04'    109       175     282.4\n",
      "4         45  '2020/12/05'    117       148     406.0\n",
      "5         60  '2020/12/06'    102       127     300.0\n",
      "6         60  '2020/12/07'    110       136     374.0\n",
      "7         45  '2020/12/08'    104       134     253.3\n",
      "8         30  '2020/12/09'    109       133     195.1\n",
      "9         60  '2020/12/10'     98       124     269.0\n",
      "10        60  '2020/12/11'    103       147     329.3\n",
      "11        60  '2020/12/12'    100       120     250.7\n",
      "13        60  '2020/12/13'    106       128     345.3\n",
      "14        60  '2020/12/14'    104       132     379.3\n",
      "15        60  '2020/12/15'     98       123     275.0\n",
      "16        60  '2020/12/16'     98       120     215.2\n",
      "17        60  '2020/12/17'    100       120     300.0\n",
      "18        45  '2020/12/18'     90       112       NaN\n",
      "19        60  '2020/12/19'    103       123     323.0\n",
      "20        45  '2020/12/20'     97       125     243.0\n",
      "21        60  '2020/12/21'    108       131     364.2\n",
      "22        45           NaN    100       119     282.0\n",
      "23        60  '2020/12/23'    130       101     300.0\n",
      "24        45  '2020/12/24'    105       132     246.0\n",
      "25        60  '2020/12/25'    102       126     334.5\n",
      "26        60      20201226    100       120     250.0\n",
      "27        60  '2020/12/27'     92       118     241.0\n",
      "28        60  '2020/12/28'    103       132       NaN\n",
      "29        60  '2020/12/29'    100       132     280.0\n",
      "30        60  '2020/12/30'    102       129     380.3\n",
      "31        60  '2020/12/31'     92       115     243.0\n"
     ]
    }
   ],
   "source": [
    "#Verify that the duplicates were dropped\n",
    "#We can do this by simply viewing the data frame since we knew row 11 and 12 were duplicates\n",
    "print(loaded_df)"
   ]
  },
  {
   "cell_type": "code",
   "execution_count": 41,
   "id": "139d903b",
   "metadata": {},
   "outputs": [
    {
     "name": "stdout",
     "output_type": "stream",
     "text": [
      "0     False\n",
      "1     False\n",
      "2     False\n",
      "3     False\n",
      "4     False\n",
      "5     False\n",
      "6     False\n",
      "7     False\n",
      "8     False\n",
      "9     False\n",
      "10    False\n",
      "11    False\n",
      "13    False\n",
      "14    False\n",
      "15    False\n",
      "16    False\n",
      "17    False\n",
      "18    False\n",
      "19    False\n",
      "20    False\n",
      "21    False\n",
      "22    False\n",
      "23    False\n",
      "24    False\n",
      "25    False\n",
      "26    False\n",
      "27    False\n",
      "28    False\n",
      "29    False\n",
      "30    False\n",
      "31    False\n",
      "dtype: bool\n"
     ]
    }
   ],
   "source": [
    "#We can also verify by checking for duplicates again using the duplicated() method \n",
    "print(loaded_df.duplicated())"
   ]
  },
  {
   "cell_type": "code",
   "execution_count": 43,
   "id": "6d0c9912",
   "metadata": {},
   "outputs": [],
   "source": [
    "#Now we should update the rows that have invalid date values. These are rows 22 and 26. \n",
    "loaded_df['Date'] = pd.to_datetime(loaded_df['Date'])"
   ]
  },
  {
   "cell_type": "code",
   "execution_count": 44,
   "id": "1c37003e",
   "metadata": {},
   "outputs": [
    {
     "name": "stdout",
     "output_type": "stream",
     "text": [
      "    Duration       Date  Pulse  Maxpulse  Calories\n",
      "22        45        NaT    100       119     282.0\n",
      "26        60 2020-12-26    100       120     250.0\n"
     ]
    }
   ],
   "source": [
    "#Verify that those row values were updated \n",
    "print(loaded_df.loc[[22, 26]])"
   ]
  },
  {
   "cell_type": "code",
   "execution_count": 46,
   "id": "2eb9fd1f",
   "metadata": {},
   "outputs": [],
   "source": [
    "#Row 22 was not updated. NaT means Not A Time. We can simply remove this row. We can treat the NaT value as a NULL value.\n",
    "#dropna() removes rows with NULL values\n",
    "loaded_df.dropna(subset=['Date'], inplace = True)"
   ]
  },
  {
   "cell_type": "code",
   "execution_count": 47,
   "id": "433f42fa",
   "metadata": {},
   "outputs": [
    {
     "name": "stdout",
     "output_type": "stream",
     "text": [
      "    Duration       Date  Pulse  Maxpulse  Calories\n",
      "0         60 2020-12-01    110       130     409.1\n",
      "1         60 2020-12-02    117       145     479.0\n",
      "2         60 2020-12-03    103       135     340.0\n",
      "3         45 2020-12-04    109       175     282.4\n",
      "4         45 2020-12-05    117       148     406.0\n",
      "5         60 2020-12-06    102       127     300.0\n",
      "6         60 2020-12-07    110       136     374.0\n",
      "7         45 2020-12-08    104       134     253.3\n",
      "8         30 2020-12-09    109       133     195.1\n",
      "9         60 2020-12-10     98       124     269.0\n",
      "10        60 2020-12-11    103       147     329.3\n",
      "11        60 2020-12-12    100       120     250.7\n",
      "13        60 2020-12-13    106       128     345.3\n",
      "14        60 2020-12-14    104       132     379.3\n",
      "15        60 2020-12-15     98       123     275.0\n",
      "16        60 2020-12-16     98       120     215.2\n",
      "17        60 2020-12-17    100       120     300.0\n",
      "18        45 2020-12-18     90       112       NaN\n",
      "19        60 2020-12-19    103       123     323.0\n",
      "20        45 2020-12-20     97       125     243.0\n",
      "21        60 2020-12-21    108       131     364.2\n",
      "23        60 2020-12-23    130       101     300.0\n",
      "24        45 2020-12-24    105       132     246.0\n",
      "25        60 2020-12-25    102       126     334.5\n",
      "26        60 2020-12-26    100       120     250.0\n",
      "27        60 2020-12-27     92       118     241.0\n",
      "28        60 2020-12-28    103       132       NaN\n",
      "29        60 2020-12-29    100       132     280.0\n",
      "30        60 2020-12-30    102       129     380.3\n",
      "31        60 2020-12-31     92       115     243.0\n"
     ]
    }
   ],
   "source": [
    "#Verify that the row was removed\n",
    "print(loaded_df)"
   ]
  },
  {
   "cell_type": "code",
   "execution_count": 51,
   "id": "3da0c50f",
   "metadata": {},
   "outputs": [],
   "source": [
    "#Let's remove the rows with NaN values in the Calories column \n",
    "loaded_df.dropna(subset=['Calories'], inplace = True)"
   ]
  },
  {
   "cell_type": "code",
   "execution_count": 52,
   "id": "2c39e6d4",
   "metadata": {},
   "outputs": [
    {
     "name": "stdout",
     "output_type": "stream",
     "text": [
      "    Duration       Date  Pulse  Maxpulse  Calories\n",
      "0         60 2020-12-01    110       130     409.1\n",
      "1         60 2020-12-02    117       145     479.0\n",
      "2         60 2020-12-03    103       135     340.0\n",
      "3         45 2020-12-04    109       175     282.4\n",
      "4         45 2020-12-05    117       148     406.0\n",
      "5         60 2020-12-06    102       127     300.0\n",
      "6         60 2020-12-07    110       136     374.0\n",
      "7         45 2020-12-08    104       134     253.3\n",
      "8         30 2020-12-09    109       133     195.1\n",
      "9         60 2020-12-10     98       124     269.0\n",
      "10        60 2020-12-11    103       147     329.3\n",
      "11        60 2020-12-12    100       120     250.7\n",
      "13        60 2020-12-13    106       128     345.3\n",
      "14        60 2020-12-14    104       132     379.3\n",
      "15        60 2020-12-15     98       123     275.0\n",
      "16        60 2020-12-16     98       120     215.2\n",
      "17        60 2020-12-17    100       120     300.0\n",
      "19        60 2020-12-19    103       123     323.0\n",
      "20        45 2020-12-20     97       125     243.0\n",
      "21        60 2020-12-21    108       131     364.2\n",
      "23        60 2020-12-23    130       101     300.0\n",
      "24        45 2020-12-24    105       132     246.0\n",
      "25        60 2020-12-25    102       126     334.5\n",
      "26        60 2020-12-26    100       120     250.0\n",
      "27        60 2020-12-27     92       118     241.0\n",
      "29        60 2020-12-29    100       132     280.0\n",
      "30        60 2020-12-30    102       129     380.3\n",
      "31        60 2020-12-31     92       115     243.0\n"
     ]
    }
   ],
   "source": [
    "#Verify\n",
    "print(loaded_df)"
   ]
  },
  {
   "cell_type": "code",
   "execution_count": 53,
   "id": "686de523",
   "metadata": {},
   "outputs": [],
   "source": [
    "#Everything looks properly formatted. Now we can get some basic statistics from the data frame "
   ]
  },
  {
   "cell_type": "code",
   "execution_count": null,
   "id": "8d8ebb3a",
   "metadata": {},
   "outputs": [],
   "source": []
  }
 ],
 "metadata": {
  "kernelspec": {
   "display_name": "Python 3",
   "language": "python",
   "name": "python3"
  },
  "language_info": {
   "codemirror_mode": {
    "name": "ipython",
    "version": 3
   },
   "file_extension": ".py",
   "mimetype": "text/x-python",
   "name": "python",
   "nbconvert_exporter": "python",
   "pygments_lexer": "ipython3",
   "version": "3.9.13"
  }
 },
 "nbformat": 4,
 "nbformat_minor": 5
}
